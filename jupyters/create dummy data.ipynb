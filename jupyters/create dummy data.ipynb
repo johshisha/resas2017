{
 "cells": [
  {
   "cell_type": "code",
   "execution_count": 65,
   "metadata": {
    "collapsed": true
   },
   "outputs": [],
   "source": [
    "import random"
   ]
  },
  {
   "cell_type": "code",
   "execution_count": 2,
   "metadata": {
    "collapsed": true
   },
   "outputs": [],
   "source": [
    "from faker import Factory\n",
    "fake = Factory.create('ja_JP')"
   ]
  },
  {
   "cell_type": "code",
   "execution_count": 20,
   "metadata": {
    "collapsed": true
   },
   "outputs": [],
   "source": [
    "from flask import Flask\n",
    "from flaskext.mysql import MySQL"
   ]
  },
  {
   "cell_type": "code",
   "execution_count": 27,
   "metadata": {
    "collapsed": false
   },
   "outputs": [
    {
     "data": {
      "text/plain": [
       "True"
      ]
     },
     "execution_count": 27,
     "metadata": {},
     "output_type": "execute_result"
    }
   ],
   "source": [
    "app = Flask(__name__)\n",
    "app.config.from_pyfile('../app/secret.cfg')"
   ]
  },
  {
   "cell_type": "code",
   "execution_count": 28,
   "metadata": {
    "collapsed": true
   },
   "outputs": [],
   "source": [
    "mysql = MySQL()\n",
    " \n",
    "# MySQL configurations\n",
    "app.config['MYSQL_DATABASE_USER'] = 'root'\n",
    "app.config['MYSQL_DATABASE_DB'] = 'resas2017'\n",
    "app.config['MYSQL_DATABASE_HOST'] = 'localhost'\n",
    "mysql.init_app(app)"
   ]
  },
  {
   "cell_type": "code",
   "execution_count": 29,
   "metadata": {
    "collapsed": true
   },
   "outputs": [],
   "source": [
    "conn = mysql.connect()"
   ]
  },
  {
   "cell_type": "code",
   "execution_count": 30,
   "metadata": {
    "collapsed": true
   },
   "outputs": [],
   "source": [
    "cursor = conn.cursor()"
   ]
  },
  {
   "cell_type": "code",
   "execution_count": 32,
   "metadata": {
    "collapsed": false
   },
   "outputs": [
    {
     "data": {
      "text/plain": [
       "3"
      ]
     },
     "execution_count": 32,
     "metadata": {},
     "output_type": "execute_result"
    }
   ],
   "source": [
    "cursor.execute('show tables;')"
   ]
  },
  {
   "cell_type": "code",
   "execution_count": 33,
   "metadata": {
    "collapsed": false
   },
   "outputs": [
    {
     "data": {
      "text/plain": [
       "(('items',), ('keywords',), ('stores',))"
      ]
     },
     "execution_count": 33,
     "metadata": {},
     "output_type": "execute_result"
    }
   ],
   "source": [
    "cursor.fetchall()"
   ]
  },
  {
   "cell_type": "markdown",
   "metadata": {},
   "source": [
    "## Keywords"
   ]
  },
  {
   "cell_type": "code",
   "execution_count": 16,
   "metadata": {
    "collapsed": true
   },
   "outputs": [],
   "source": [
    "keyword_list = [\n",
    "    '清水寺',\n",
    "    '鹿苑寺',\n",
    "    '伏見稲荷大社',\n",
    "    '東映太秦映画村',\n",
    "    '京都水族館',\n",
    "    '北野天満宮',\n",
    "    '貴船神社',\n",
    "    '八坂神社',\n",
    "    '三千院門跡',\n",
    "    '慈照寺',\n",
    "    '嵐山',\n",
    "    '元離宮二条城',\n",
    "    '平安神宮',\n",
    "    '下鴨神社',\n",
    "    '東寺'\n",
    "]"
   ]
  },
  {
   "cell_type": "code",
   "execution_count": 17,
   "metadata": {
    "collapsed": false
   },
   "outputs": [
    {
     "data": {
      "text/plain": [
       "15"
      ]
     },
     "execution_count": 17,
     "metadata": {},
     "output_type": "execute_result"
    }
   ],
   "source": [
    "len(keyword_list)"
   ]
  },
  {
   "cell_type": "code",
   "execution_count": 39,
   "metadata": {
    "collapsed": false
   },
   "outputs": [],
   "source": [
    "sql = 'insert into keywords(keyword) values(\"{}\")'\n",
    "for keyword in keyword_list:\n",
    "    cursor.execute(sql.format(keyword))"
   ]
  },
  {
   "cell_type": "code",
   "execution_count": 40,
   "metadata": {
    "collapsed": false
   },
   "outputs": [
    {
     "data": {
      "text/plain": [
       "((30,),)"
      ]
     },
     "execution_count": 40,
     "metadata": {},
     "output_type": "execute_result"
    }
   ],
   "source": [
    "cursor.execute('select count(1) from keywords;')\n",
    "cursor.fetchall()"
   ]
  },
  {
   "cell_type": "markdown",
   "metadata": {},
   "source": [
    "## Stores"
   ]
  },
  {
   "cell_type": "code",
   "execution_count": 148,
   "metadata": {
    "collapsed": true
   },
   "outputs": [],
   "source": [
    "column_number = 100"
   ]
  },
  {
   "cell_type": "code",
   "execution_count": 141,
   "metadata": {
    "collapsed": false
   },
   "outputs": [],
   "source": [
    "for i in range(column_number):\n",
    "    dummy_data = [\n",
    "        # name\n",
    "        fake.company(),\n",
    "\n",
    "        # thumbnail\n",
    "        fake.image_url(width=None, height=None),\n",
    "\n",
    "        ## description\n",
    "        fake.sentence(nb_words=6, variable_nb_words=True, ext_word_list=None),\n",
    "\n",
    "        # detail\n",
    "        fake.text(max_nb_chars=200, ext_word_list=None),\n",
    "\n",
    "        # lat\n",
    "        str(fake.latitude()),\n",
    "\n",
    "        # lng\n",
    "        str(fake.longitude()),\n",
    "    ]\n",
    "\n",
    "    ret = '\"'+'\",\"'.join(dummy_data)+'\"'\n",
    "    name = dummy_data[0]\n",
    "\n",
    "    sql = 'insert into stores(name, thumbnail, description, detail, lat, lng) values({})'\n",
    "    cursor.execute(sql.format(ret))\n",
    "\n",
    "    cursor.execute('select id from stores where name = \"{}\";'.format(name))\n",
    "    result = cursor.fetchall()\n",
    "    store_id = result[0][0]\n",
    "    keyword_id = random.randint(a=1, b=len(keyword_list))\n",
    "\n",
    "    cursor.execute('insert into keyword_relationships(keyword_id, store_id) values({}, {})'.format(keyword_id, store_id))\n",
    "\n"
   ]
  },
  {
   "cell_type": "markdown",
   "metadata": {},
   "source": [
    "## items"
   ]
  },
  {
   "cell_type": "code",
   "execution_count": 151,
   "metadata": {
    "collapsed": true
   },
   "outputs": [],
   "source": [
    "item_number = 300"
   ]
  },
  {
   "cell_type": "code",
   "execution_count": 150,
   "metadata": {
    "collapsed": true
   },
   "outputs": [],
   "source": [
    "for i in range(item_number):\n",
    "    store_id = random.randint(a=1, b=column_number)\n",
    "    url = fake.image_url(width=None, height=None)\n",
    "    label = fake.word(ext_word_list=None)\n",
    "\n",
    "    cursor.execute('insert into items(store_id, url, label) values({}, {})'.format(store_id, url, label))"
   ]
  }
 ],
 "metadata": {
  "kernelspec": {
   "display_name": "Python 3",
   "language": "python",
   "name": "python3"
  },
  "language_info": {
   "codemirror_mode": {
    "name": "ipython",
    "version": 3
   },
   "file_extension": ".py",
   "mimetype": "text/x-python",
   "name": "python",
   "nbconvert_exporter": "python",
   "pygments_lexer": "ipython3",
   "version": "3.5.2"
  }
 },
 "nbformat": 4,
 "nbformat_minor": 1
}
