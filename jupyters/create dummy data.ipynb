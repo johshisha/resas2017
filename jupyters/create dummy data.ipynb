{
 "cells": [
  {
   "cell_type": "code",
   "execution_count": 1,
   "metadata": {
    "collapsed": true
   },
   "outputs": [],
   "source": [
    "import random"
   ]
  },
  {
   "cell_type": "code",
   "execution_count": 2,
   "metadata": {
    "collapsed": true
   },
   "outputs": [],
   "source": [
    "from faker import Factory\n",
    "fake = Factory.create('ja_JP')"
   ]
  },
  {
   "cell_type": "code",
   "execution_count": 3,
   "metadata": {
    "collapsed": true
   },
   "outputs": [],
   "source": [
    "from flask import Flask\n",
    "from flaskext.mysql import MySQL"
   ]
  },
  {
   "cell_type": "code",
   "execution_count": 4,
   "metadata": {
    "collapsed": false
   },
   "outputs": [
    {
     "data": {
      "text/plain": [
       "True"
      ]
     },
     "execution_count": 4,
     "metadata": {},
     "output_type": "execute_result"
    }
   ],
   "source": [
    "app = Flask(__name__)\n",
    "app.config.from_pyfile('../app/secret.cfg')"
   ]
  },
  {
   "cell_type": "code",
   "execution_count": 5,
   "metadata": {
    "collapsed": true
   },
   "outputs": [],
   "source": [
    "mysql = MySQL()\n",
    " \n",
    "# MySQL configurations\n",
    "app.config['MYSQL_DATABASE_USER'] = 'root'\n",
    "app.config['MYSQL_DATABASE_DB'] = 'resas2017'\n",
    "app.config['MYSQL_DATABASE_HOST'] = 'localhost'\n",
    "mysql.init_app(app)"
   ]
  },
  {
   "cell_type": "code",
   "execution_count": 6,
   "metadata": {
    "collapsed": true
   },
   "outputs": [],
   "source": [
    "conn = mysql.connect()"
   ]
  },
  {
   "cell_type": "code",
   "execution_count": 7,
   "metadata": {
    "collapsed": true
   },
   "outputs": [],
   "source": [
    "cursor = conn.cursor()"
   ]
  },
  {
   "cell_type": "code",
   "execution_count": 8,
   "metadata": {
    "collapsed": false
   },
   "outputs": [
    {
     "data": {
      "text/plain": [
       "4"
      ]
     },
     "execution_count": 8,
     "metadata": {},
     "output_type": "execute_result"
    }
   ],
   "source": [
    "cursor.execute('show tables;')"
   ]
  },
  {
   "cell_type": "code",
   "execution_count": 9,
   "metadata": {
    "collapsed": false
   },
   "outputs": [
    {
     "data": {
      "text/plain": [
       "(('items',), ('keyword_relationships',), ('keywords',), ('stores',))"
      ]
     },
     "execution_count": 9,
     "metadata": {},
     "output_type": "execute_result"
    }
   ],
   "source": [
    "cursor.fetchall()"
   ]
  },
  {
   "cell_type": "code",
   "execution_count": 10,
   "metadata": {
    "collapsed": false
   },
   "outputs": [
    {
     "data": {
      "text/plain": [
       "b'root'"
      ]
     },
     "execution_count": 10,
     "metadata": {},
     "output_type": "execute_result"
    }
   ],
   "source": [
    "cursor.connection.user"
   ]
  },
  {
   "cell_type": "code",
   "execution_count": 11,
   "metadata": {
    "collapsed": false
   },
   "outputs": [
    {
     "data": {
      "text/plain": [
       "()"
      ]
     },
     "execution_count": 11,
     "metadata": {},
     "output_type": "execute_result"
    }
   ],
   "source": [
    "cursor.execute('select * from keywords;')\n",
    "cursor.fetchall()"
   ]
  },
  {
   "cell_type": "markdown",
   "metadata": {},
   "source": [
    "## Keywords"
   ]
  },
  {
   "cell_type": "code",
   "execution_count": 12,
   "metadata": {
    "collapsed": true
   },
   "outputs": [],
   "source": [
    "keyword_list = [\n",
    "    '清水寺',\n",
    "    '鹿苑寺',\n",
    "    '伏見稲荷大社',\n",
    "    '東映太秦映画村',\n",
    "    '京都水族館',\n",
    "    '北野天満宮',\n",
    "    '貴船神社',\n",
    "    '八坂神社',\n",
    "    '三千院門跡',\n",
    "    '慈照寺',\n",
    "    '嵐山',\n",
    "    '元離宮二条城',\n",
    "    '平安神宮',\n",
    "    '下鴨神社',\n",
    "    '東寺'\n",
    "]"
   ]
  },
  {
   "cell_type": "code",
   "execution_count": 13,
   "metadata": {
    "collapsed": false
   },
   "outputs": [
    {
     "data": {
      "text/plain": [
       "15"
      ]
     },
     "execution_count": 13,
     "metadata": {},
     "output_type": "execute_result"
    }
   ],
   "source": [
    "len(keyword_list)"
   ]
  },
  {
   "cell_type": "code",
   "execution_count": 14,
   "metadata": {
    "collapsed": false
   },
   "outputs": [],
   "source": [
    "sql = 'insert into keywords(keyword) values(\"{}\")'\n",
    "for keyword in keyword_list:\n",
    "    cursor.execute(sql.format(keyword))"
   ]
  },
  {
   "cell_type": "code",
   "execution_count": 15,
   "metadata": {
    "collapsed": false
   },
   "outputs": [
    {
     "data": {
      "text/plain": [
       "((15,),)"
      ]
     },
     "execution_count": 15,
     "metadata": {},
     "output_type": "execute_result"
    }
   ],
   "source": [
    "cursor.execute('select count(1) from keywords;')\n",
    "cursor.fetchall()"
   ]
  },
  {
   "cell_type": "markdown",
   "metadata": {},
   "source": [
    "## Stores"
   ]
  },
  {
   "cell_type": "code",
   "execution_count": 16,
   "metadata": {
    "collapsed": true
   },
   "outputs": [],
   "source": [
    "column_number = 100"
   ]
  },
  {
   "cell_type": "code",
   "execution_count": 28,
   "metadata": {
    "collapsed": true
   },
   "outputs": [],
   "source": [
    "# 京都市の範囲\n",
    "x1, y1 = 35.031280, 135.661159 \n",
    "x2, y2 = 34.962638, 135.793442"
   ]
  },
  {
   "cell_type": "code",
   "execution_count": 17,
   "metadata": {
    "collapsed": false
   },
   "outputs": [],
   "source": [
    "for i in range(column_number):\n",
    "    try:\n",
    "        dummy_data = [\n",
    "            # name\n",
    "            fake.company(),\n",
    "\n",
    "            # thumbnail\n",
    "            fake.image_url(width=None, height=None),\n",
    "\n",
    "            ## description\n",
    "            fake.sentence(nb_words=6, variable_nb_words=True, ext_word_list=None),\n",
    "\n",
    "            # detail\n",
    "            fake.text(max_nb_chars=200, ext_word_list=None),\n",
    "\n",
    "            # lat\n",
    "            str(random.uniform(x1,x2)),\n",
    "\n",
    "            # lng\n",
    "            str(random.uniform(y1,y2)),\n",
    "        ]\n",
    "\n",
    "        ret = '\"'+'\",\"'.join(dummy_data)+'\"'\n",
    "        name = dummy_data[0]\n",
    "\n",
    "        sql = 'insert into stores(name, thumbnail, description, detail, lat, lng) values({})'\n",
    "        cursor.execute(sql.format(ret))\n",
    "    except:\n",
    "        continue\n",
    "\n"
   ]
  },
  {
   "cell_type": "code",
   "execution_count": 18,
   "metadata": {
    "collapsed": false
   },
   "outputs": [],
   "source": [
    "cursor.execute('select id from stores;')\n",
    "store_ids = [d[0] for d in cursor.fetchall()]"
   ]
  },
  {
   "cell_type": "markdown",
   "metadata": {},
   "source": [
    "## relationships"
   ]
  },
  {
   "cell_type": "code",
   "execution_count": 21,
   "metadata": {
    "collapsed": false
   },
   "outputs": [],
   "source": [
    "# ひとつのStoreに対して，1〜3のkeywordを割り当てる\n",
    "\n",
    "for i in store_ids:\n",
    "    store_id = i\n",
    "    for n in range(random.randint(a=1, b=3)):\n",
    "        keyword_id = random.randint(a=1, b=len(keyword_list))\n",
    "        cursor.execute('insert into keyword_relationships(keyword_id, store_id) values({}, {})'.format(keyword_id, store_id))"
   ]
  },
  {
   "cell_type": "markdown",
   "metadata": {},
   "source": [
    "## items"
   ]
  },
  {
   "cell_type": "code",
   "execution_count": 22,
   "metadata": {
    "collapsed": true
   },
   "outputs": [],
   "source": [
    "item_number = 300"
   ]
  },
  {
   "cell_type": "code",
   "execution_count": 23,
   "metadata": {
    "collapsed": false
   },
   "outputs": [],
   "source": [
    "for i in range(item_number):\n",
    "    store_id = random.choice(store_ids)\n",
    "    url = fake.image_url(width=None, height=None)\n",
    "    label = fake.word(ext_word_list=None)\n",
    "\n",
    "    cursor.execute('insert into items(store_id, url, label) values({}, \"{}\", \"{}\")'.format(store_id, url, label))"
   ]
  },
  {
   "cell_type": "code",
   "execution_count": 24,
   "metadata": {
    "collapsed": true
   },
   "outputs": [],
   "source": [
    "conn.commit()"
   ]
  },
  {
   "cell_type": "code",
   "execution_count": 25,
   "metadata": {
    "collapsed": true
   },
   "outputs": [],
   "source": [
    "cursor.close()"
   ]
  },
  {
   "cell_type": "code",
   "execution_count": 26,
   "metadata": {
    "collapsed": true
   },
   "outputs": [],
   "source": [
    "conn.close()"
   ]
  },
  {
   "cell_type": "code",
   "execution_count": null,
   "metadata": {
    "collapsed": true
   },
   "outputs": [],
   "source": []
  }
 ],
 "metadata": {
  "kernelspec": {
   "display_name": "Python 3",
   "language": "python",
   "name": "python3"
  },
  "language_info": {
   "codemirror_mode": {
    "name": "ipython",
    "version": 3
   },
   "file_extension": ".py",
   "mimetype": "text/x-python",
   "name": "python",
   "nbconvert_exporter": "python",
   "pygments_lexer": "ipython3",
   "version": "3.5.2"
  }
 },
 "nbformat": 4,
 "nbformat_minor": 1
}
